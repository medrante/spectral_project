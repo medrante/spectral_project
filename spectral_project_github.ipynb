{
  "nbformat": 4,
  "nbformat_minor": 0,
  "metadata": {
    "colab": {
      "provenance": [],
      "authorship_tag": "ABX9TyN82sezucbJprfuuDLuiWkH",
      "include_colab_link": true
    },
    "kernelspec": {
      "name": "python3",
      "display_name": "Python 3"
    },
    "language_info": {
      "name": "python"
    }
  },
  "cells": [
    {
      "cell_type": "markdown",
      "metadata": {
        "id": "view-in-github",
        "colab_type": "text"
      },
      "source": [
        "<a href=\"https://colab.research.google.com/github/medrante/spectral_project/blob/main/spectral_project_github.ipynb\" target=\"_parent\"><img src=\"https://colab.research.google.com/assets/colab-badge.svg\" alt=\"Open In Colab\"/></a>"
      ]
    },
    {
      "cell_type": "markdown",
      "source": [
        "# Spectral Project (Thesis)\n",
        "\n",
        "## Outline\n",
        "- Install libraries\n",
        "- Set variables\n",
        "- Create telescope aperture\n",
        "- Helper functions\n",
        "  - Create first / main wavefront\n",
        "  - Propagate main wavefront\n",
        "  - Create other wavefronts\n",
        "  - Propagate them\n",
        "  - Generate power spectrum\n",
        "- Save all the images\n",
        "\n",
        "- All the resnets"
      ],
      "metadata": {
        "id": "2UhBWZRba8eT"
      }
    },
    {
      "cell_type": "markdown",
      "source": [
        "## Install Libraries\n",
        "\n",
        "If you are running this notebook on Colab, you can run the following cell to install the libraries we'll use.\n",
        "\n",
        "If you are running this notebook on your own computer, you might have to install these libraries yourself.  See the instructions in the preface."
      ],
      "metadata": {
        "id": "UiSIKJ20cq6L"
      }
    },
    {
      "cell_type": "code",
      "source": [
        "# If we're running on Colab, install libraries\n",
        "\n",
        "# TODO: When Colab can install gala, switch from astro-gala\n",
        "\n",
        "import sys\n",
        "IN_COLAB = 'google.colab' in sys.modules\n",
        "\n",
        "if IN_COLAB:\n",
        "    !pip install hcipy asdf==2.14.0 #torch torchvision"
      ],
      "metadata": {
        "colab": {
          "base_uri": "https://localhost:8080/"
        },
        "id": "WBMVIrYjjhkN",
        "outputId": "4907d0e8-b892-4a9c-ca74-89a6d0e4b442"
      },
      "execution_count": 6,
      "outputs": [
        {
          "output_type": "stream",
          "name": "stdout",
          "text": [
            "Requirement already satisfied: hcipy in /usr/local/lib/python3.10/dist-packages (0.6.0)\n",
            "Requirement already satisfied: asdf==2.14.0 in /usr/local/lib/python3.10/dist-packages (2.14.0)\n",
            "Requirement already satisfied: asdf-standard>=1.0.1 in /usr/local/lib/python3.10/dist-packages (from asdf==2.14.0) (1.1.1)\n",
            "Requirement already satisfied: asdf-transform-schemas>=0.2.2 in /usr/local/lib/python3.10/dist-packages (from asdf==2.14.0) (0.5.0)\n",
            "Requirement already satisfied: asdf-unit-schemas>=0.1.0 in /usr/local/lib/python3.10/dist-packages (from asdf==2.14.0) (0.2.0)\n",
            "Requirement already satisfied: jmespath>=0.6.2 in /usr/local/lib/python3.10/dist-packages (from asdf==2.14.0) (1.0.1)\n",
            "Requirement already satisfied: jsonschema>=4.0.1 in /usr/local/lib/python3.10/dist-packages (from asdf==2.14.0) (4.19.2)\n",
            "Requirement already satisfied: numpy>=1.18 in /usr/local/lib/python3.10/dist-packages (from asdf==2.14.0) (1.25.2)\n",
            "Requirement already satisfied: packaging>=16.0 in /usr/local/lib/python3.10/dist-packages (from asdf==2.14.0) (24.0)\n",
            "Requirement already satisfied: pyyaml>=3.10 in /usr/local/lib/python3.10/dist-packages (from asdf==2.14.0) (6.0.1)\n",
            "Requirement already satisfied: semantic-version>=2.8 in /usr/local/lib/python3.10/dist-packages (from asdf==2.14.0) (2.10.0)\n",
            "Requirement already satisfied: scipy in /usr/local/lib/python3.10/dist-packages (from hcipy) (1.11.4)\n",
            "Requirement already satisfied: matplotlib>=2.0.0 in /usr/local/lib/python3.10/dist-packages (from hcipy) (3.7.1)\n",
            "Requirement already satisfied: Pillow in /usr/local/lib/python3.10/dist-packages (from hcipy) (9.4.0)\n",
            "Requirement already satisfied: astropy in /usr/local/lib/python3.10/dist-packages (from hcipy) (5.3.4)\n",
            "Requirement already satisfied: imageio in /usr/local/lib/python3.10/dist-packages (from hcipy) (2.31.6)\n",
            "Requirement already satisfied: xxhash in /usr/local/lib/python3.10/dist-packages (from hcipy) (3.4.1)\n",
            "Requirement already satisfied: numexpr in /usr/local/lib/python3.10/dist-packages (from hcipy) (2.9.0)\n",
            "Requirement already satisfied: attrs>=22.2.0 in /usr/local/lib/python3.10/dist-packages (from jsonschema>=4.0.1->asdf==2.14.0) (23.2.0)\n",
            "Requirement already satisfied: jsonschema-specifications>=2023.03.6 in /usr/local/lib/python3.10/dist-packages (from jsonschema>=4.0.1->asdf==2.14.0) (2023.12.1)\n",
            "Requirement already satisfied: referencing>=0.28.4 in /usr/local/lib/python3.10/dist-packages (from jsonschema>=4.0.1->asdf==2.14.0) (0.34.0)\n",
            "Requirement already satisfied: rpds-py>=0.7.1 in /usr/local/lib/python3.10/dist-packages (from jsonschema>=4.0.1->asdf==2.14.0) (0.18.0)\n",
            "Requirement already satisfied: contourpy>=1.0.1 in /usr/local/lib/python3.10/dist-packages (from matplotlib>=2.0.0->hcipy) (1.2.0)\n",
            "Requirement already satisfied: cycler>=0.10 in /usr/local/lib/python3.10/dist-packages (from matplotlib>=2.0.0->hcipy) (0.12.1)\n",
            "Requirement already satisfied: fonttools>=4.22.0 in /usr/local/lib/python3.10/dist-packages (from matplotlib>=2.0.0->hcipy) (4.50.0)\n",
            "Requirement already satisfied: kiwisolver>=1.0.1 in /usr/local/lib/python3.10/dist-packages (from matplotlib>=2.0.0->hcipy) (1.4.5)\n",
            "Requirement already satisfied: pyparsing>=2.3.1 in /usr/local/lib/python3.10/dist-packages (from matplotlib>=2.0.0->hcipy) (3.1.2)\n",
            "Requirement already satisfied: python-dateutil>=2.7 in /usr/local/lib/python3.10/dist-packages (from matplotlib>=2.0.0->hcipy) (2.8.2)\n",
            "Requirement already satisfied: pyerfa>=2.0 in /usr/local/lib/python3.10/dist-packages (from astropy->hcipy) (2.0.1.1)\n",
            "Requirement already satisfied: six>=1.5 in /usr/local/lib/python3.10/dist-packages (from python-dateutil>=2.7->matplotlib>=2.0.0->hcipy) (1.16.0)\n"
          ]
        }
      ]
    },
    {
      "cell_type": "code",
      "source": [
        "# https://github.com/medrante/spectral_project/blob/main/color_magnitude_table.csv\n",
        "\n",
        "import pandas as pd\n",
        "url = 'https://raw.githubusercontent.com/medrante/spectral_project/main/color_magnitude_table.csv'\n",
        "df = pd.read_csv(url,index_col=0)\n",
        "\n",
        "df.columns"
      ],
      "metadata": {
        "colab": {
          "base_uri": "https://localhost:8080/"
        },
        "id": "tO3HzXailx20",
        "outputId": "8f70275a-24e3-4725-b970-8e8a3fe91f12"
      },
      "execution_count": 13,
      "outputs": [
        {
          "output_type": "execute_result",
          "data": {
            "text/plain": [
              "Index(['mag_s_v', 'color_s_v', 'mag_u_v', 'color_u_v', 'mag_b_v', 'color_b_v',\n",
              "       'mag_V', 'color_V', 'mag_v_w', 'color_v_w', 'mag_v_x', 'color_v_x',\n",
              "       'mag_v_p', 'color_v_p', 'mag_v_z', 'color_v_z'],\n",
              "      dtype='object')"
            ]
          },
          "metadata": {},
          "execution_count": 13
        }
      ]
    },
    {
      "cell_type": "code",
      "source": [
        "s_wlen = df['color_V'] + df['color_s_v']\n",
        "s_mag = df['mag_s_v']"
      ],
      "metadata": {
        "id": "5lZg4kolo_h5"
      },
      "execution_count": 14,
      "outputs": []
    },
    {
      "cell_type": "code",
      "source": [
        "s_wlen, s_mag"
      ],
      "metadata": {
        "colab": {
          "base_uri": "https://localhost:8080/"
        },
        "id": "z2FH-v7gpEg0",
        "outputId": "4f7a404a-74c2-44c7-904a-8edab3dfce6d"
      },
      "execution_count": 15,
      "outputs": [
        {
          "output_type": "execute_result",
          "data": {
            "text/plain": [
              "(Star\n",
              " SA 94_06       8.369\n",
              " SA 94_07      11.321\n",
              " SA 94_08       9.981\n",
              " SA 94_10      10.223\n",
              " SA 94_12      10.012\n",
              " SA_71 _07     11.904\n",
              " SA_71_11      10.883\n",
              " SA_71_14      12.581\n",
              " SA_71_17      11.557\n",
              " SA_71_20      11.853\n",
              " SA_51_02      10.702\n",
              " SA_51_03       9.376\n",
              " SA_51_11      11.925\n",
              " SA_51_12      10.383\n",
              " SA_51_18      13.628\n",
              " SA_51_20      12.099\n",
              " SA_54_04      10.211\n",
              " SA_54_06       8.953\n",
              " SA_54_07       9.744\n",
              " SA_54_08      11.535\n",
              " SA_54_27      12.555\n",
              " SA_82_03      11.041\n",
              " SA_82_10      11.530\n",
              " SA_82_14      12.322\n",
              " SA_82_16      11.482\n",
              " SA_82_17      11.596\n",
              " SA_82_18      13.497\n",
              " SA_82_20      13.120\n",
              " SA_82_21      12.227\n",
              " SA_82_22      12.227\n",
              " AQUILA_07     10.053\n",
              " AQUILA_08     10.877\n",
              " AQUILA_12     11.004\n",
              " AQUILA_15     11.188\n",
              " AQUILA_17     11.320\n",
              " AQUILA_22     11.878\n",
              " AQUILA_23     12.078\n",
              " SA_114_223    10.311\n",
              " SA_114_445    12.186\n",
              " SA_114_473     9.589\n",
              " SA_114_790    12.506\n",
              " SAO_31899      6.210\n",
              " SAO_93936      8.073\n",
              " SAO_94049      7.919\n",
              " SAO_94114      8.304\n",
              " SAO_31898      5.935\n",
              " SAO_49262      7.387\n",
              " SAO_103395     8.597\n",
              " SAO_120107     9.226\n",
              " SAO_157111     6.785\n",
              " dtype: float64,\n",
              " Star\n",
              " SA 94_06       8\n",
              " SA 94_07       8\n",
              " SA 94_08      14\n",
              " SA 94_10       8\n",
              " SA 94_12       7\n",
              " SA_71 _07      9\n",
              " SA_71_11      10\n",
              " SA_71_14       9\n",
              " SA_71_17       8\n",
              " SA_71_20       6\n",
              " SA_51_02       4\n",
              " SA_51_03       5\n",
              " SA_51_11       4\n",
              " SA_51_12       4\n",
              " SA_51_18       7\n",
              " SA_51_20       6\n",
              " SA_54_04       9\n",
              " SA_54_06       5\n",
              " SA_54_07       9\n",
              " SA_54_08       5\n",
              " SA_54_27      11\n",
              " SA_82_03       3\n",
              " SA_82_10       5\n",
              " SA_82_14       4\n",
              " SA_82_16       3\n",
              " SA_82_17       9\n",
              " SA_82_18       7\n",
              " SA_82_20       9\n",
              " SA_82_21      10\n",
              " SA_82_22       7\n",
              " AQUILA_07      8\n",
              " AQUILA_08     12\n",
              " AQUILA_12      3\n",
              " AQUILA_15      4\n",
              " AQUILA_17      4\n",
              " AQUILA_22      8\n",
              " AQUILA_23      9\n",
              " SA_114_223     9\n",
              " SA_114_445     7\n",
              " SA_114_473    10\n",
              " SA_114_790    10\n",
              " SAO_31899     14\n",
              " SAO_93936      7\n",
              " SAO_94049      7\n",
              " SAO_94114      7\n",
              " SAO_31898     12\n",
              " SAO_49262     13\n",
              " SAO_103395     6\n",
              " SAO_120107    11\n",
              " SAO_157111    14\n",
              " Name: mag_s_v, dtype: int64)"
            ]
          },
          "metadata": {},
          "execution_count": 15
        }
      ]
    },
    {
      "cell_type": "markdown",
      "source": [
        "## Helper Functions"
      ],
      "metadata": {
        "id": "8XlBelT0cuBk"
      }
    },
    {
      "cell_type": "markdown",
      "source": [
        "### Create wavefront\n"
      ],
      "metadata": {
        "id": "AplV0FMmc0-0"
      }
    },
    {
      "cell_type": "code",
      "source": [
        "# for noisy detector\n",
        "# https://docs.hcipy.org/0.5.1/getting_started/2_wavefronts_optical_systems.html?highlight=detector"
      ],
      "metadata": {
        "id": "zlHhNlozbRwR"
      },
      "execution_count": null,
      "outputs": []
    },
    {
      "cell_type": "markdown",
      "source": [
        "### Propagate wavefront"
      ],
      "metadata": {
        "id": "IAThu09Uc4cH"
      }
    },
    {
      "cell_type": "markdown",
      "source": [
        "## Generation all the images"
      ],
      "metadata": {
        "id": "ep6S0gvOdKWK"
      }
    },
    {
      "cell_type": "code",
      "source": [
        "\n"
      ],
      "metadata": {
        "id": "yEaaMHexa2Pr"
      },
      "execution_count": null,
      "outputs": []
    }
  ]
}